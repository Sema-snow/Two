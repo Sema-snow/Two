{
  "nbformat": 4,
  "nbformat_minor": 0,
  "metadata": {
    "colab": {
      "provenance": [],
      "toc_visible": true,
      "authorship_tag": "ABX9TyNzoYaA3u5Ju9+hKaNJ/UrA",
      "include_colab_link": true
    },
    "kernelspec": {
      "name": "python3",
      "display_name": "Python 3"
    },
    "language_info": {
      "name": "python"
    }
  },
  "cells": [
    {
      "cell_type": "markdown",
      "metadata": {
        "id": "view-in-github",
        "colab_type": "text"
      },
      "source": [
        "<a href=\"https://colab.research.google.com/github/Sema-snow/Two/blob/main/HW_General_Python.ipynb\" target=\"_parent\"><img src=\"https://colab.research.google.com/assets/colab-badge.svg\" alt=\"Open In Colab\"/></a>"
      ]
    },
    {
      "cell_type": "markdown",
      "source": [
        "# Домашнее задание к лекции \"Основы Python\""
      ],
      "metadata": {
        "id": "baTFQ8TZcm0t"
      }
    },
    {
      "cell_type": "markdown",
      "source": [
        "Задание 1\n",
        "\n",
        "Даны 2 переменных, в которых хранятся строки произвольной длины:\n",
        "\n",
        " phrase_1 и phrase_2.\n",
        "\n",
        "Напишите код, который проверяет какая из этих строк длиннее."
      ],
      "metadata": {
        "id": "Vkc_XQC8czwe"
      }
    },
    {
      "cell_type": "code",
      "source": [
        "phrase_1 = 'Насколько проще было бы писать программы, если бы не заказчики'\n",
        "phrase_2 = '640Кб должно хватить для любых задач. Билл Гейтс (по легенде)'\n",
        "a = len(phrase_1)\n",
        "b = len(phrase_2)\n",
        "#print (a , b)\n",
        "if a > b:\n",
        "  print ('Фраза 1 длиннее фразы 2')\n",
        "else:\n",
        "  print ('Фраза 2 длиннее фразы 1')"
      ],
      "metadata": {
        "colab": {
          "base_uri": "https://localhost:8080/"
        },
        "id": "B3313foNc4B3",
        "outputId": "810c1977-dc24-4e7e-bc14-01b9a33f8c0e"
      },
      "execution_count": null,
      "outputs": [
        {
          "output_type": "stream",
          "name": "stdout",
          "text": [
            "Фраза 1 длиннее фразы 2\n"
          ]
        }
      ]
    },
    {
      "cell_type": "code",
      "source": [
        "phrase_1 = 'Насколько проще было бы писать программы, если бы не заказчики'\n",
        "phrase_2 = 'Насколько проще было бы писать программы, если бы не заказчики'\n",
        "a = len(phrase_1)\n",
        "b = len(phrase_2)\n",
        "#print (a , b)\n",
        "if a > b:\n",
        "  print ('Фраза 1 длиннее фразы 2')\n",
        "elif a == b:\n",
        "  print ('Фразы равной длины')\n",
        "else:\n",
        "  print ('Фраза 2 длиннее фразы 1')"
      ],
      "metadata": {
        "colab": {
          "base_uri": "https://localhost:8080/"
        },
        "id": "qHizVOHpeAN0",
        "outputId": "829d7c81-cccd-4ac2-9ec8-46c51aa32644"
      },
      "execution_count": null,
      "outputs": [
        {
          "output_type": "stream",
          "name": "stdout",
          "text": [
            "Фразы равной длины\n"
          ]
        }
      ]
    },
    {
      "cell_type": "markdown",
      "source": [
        "Задание 2\n",
        "\n",
        "Дана переменная, в которой хранится число (год). Необходимо написать программу, которая выведет, является ли данный год високосным или обычным."
      ],
      "metadata": {
        "id": "tRPNobjTeezN"
      }
    },
    {
      "cell_type": "code",
      "source": [
        "year = 2020\n",
        "if year % 4 == 0:\n",
        "  print ('Високосный год')\n",
        "else:\n",
        "  print ('Обычный год')"
      ],
      "metadata": {
        "colab": {
          "base_uri": "https://localhost:8080/"
        },
        "id": "zvH0QJmBeizx",
        "outputId": "68b55b07-a57b-43e5-e149-475eb7e082a3"
      },
      "execution_count": null,
      "outputs": [
        {
          "output_type": "stream",
          "name": "stdout",
          "text": [
            "Високосный год\n"
          ]
        }
      ]
    },
    {
      "cell_type": "code",
      "source": [
        "year = 2019\n",
        "if year % 4 == 0:\n",
        "  print ('Високосный год')\n",
        "else:\n",
        "  print ('Обычный год')"
      ],
      "metadata": {
        "colab": {
          "base_uri": "https://localhost:8080/"
        },
        "id": "2eNRKcDue7ZC",
        "outputId": "dcb8a480-fb50-4a1c-ce74-d71feb4c381e"
      },
      "execution_count": null,
      "outputs": [
        {
          "output_type": "stream",
          "name": "stdout",
          "text": [
            "Обычный год\n"
          ]
        }
      ]
    },
    {
      "cell_type": "markdown",
      "source": [
        "Задание 3\n",
        "\n",
        "Необходимо написать программу, которая будет запрашивать у пользователя месяц и дату рождения и выводить соответствующий знак зодиака."
      ],
      "metadata": {
        "id": "HRf2JQA2f2aS"
      }
    },
    {
      "cell_type": "code",
      "source": [
        "month = int(input('Введите месяц Вашего рождения   '))\n",
        "day = int(input('Введите дату Вашего рождения    '))\n",
        "if (month == 3 and (21 <= day <= 31)) or (month == 3 + 1 and (1 <= day <= 20)):\n",
        "  print('Овен')\n",
        "else:\n",
        "  if (month == 4 and (21 <= day <= 31)) or (month == 4 + 1 and (1 <= day <= 20)):\n",
        "    print('Телец')\n",
        "  else:\n",
        "    if (month == 5 and (21 <= day <= 31)) or (month == 5 + 1 and (1 <= day <= 21)):\n",
        "      print('Близнецы')\n",
        "    else:\n",
        "      if (month == 6 and (22 <= day <= 31)) or (month == 6 + 1 and (1 <= day <= 22)):\n",
        "       print('Рак')\n",
        "      else:\n",
        "        if (month == 7 and (23 <= day <= 31)) or (month == 7 + 1 and (1 <= day <= 23)):\n",
        "          print('Лев')\n",
        "        else:\n",
        "          if (month == 8 and (24 <= day <= 31)) or (month == 8 + 1 and (1 <= day <= 23)):\n",
        "            print('Дева')\n",
        "          else:\n",
        "            if (month == 9 and (24 <= day <= 31)) or (month == 9 + 1 and (1 <= day <= 23)):\n",
        "              print('Весы')\n",
        "            else:\n",
        "              if (month == 10 and (23 <= day <= 31)) or (month == 10 + 1 and (1 <= day <= 22)):\n",
        "                print('Скорпион')\n",
        "              else:\n",
        "                if (month == 11 and (23 <= day <= 31)) or (month == 11 + 1 and (1 <= day <= 21)):\n",
        "                  print('Стрелец')\n",
        "                else:\n",
        "                  if (month == 12 and (22 <= day <= 31)) or (month == 0 + 1 and (1 <= day <= 20)):\n",
        "                    print('Козерог')\n",
        "                  else:\n",
        "                    if (month == 1 and (21 <= day <= 31)) or (month == 1 + 1 and (1 <= day <= 20)):\n",
        "                      print('Водолей')\n",
        "                    else:\n",
        "                      if (month == 2 and (21 <= day <= 31)) or (month == 2 + 1 and (1 <= day <= 20)):\n",
        "                        print('Рыбы')"
      ],
      "metadata": {
        "colab": {
          "base_uri": "https://localhost:8080/"
        },
        "id": "bH0IZ1nfhNyj",
        "outputId": "06faef6d-98f5-4424-eb12-fd466185f7c6"
      },
      "execution_count": null,
      "outputs": [
        {
          "output_type": "stream",
          "name": "stdout",
          "text": [
            "Введите месяц Вашего рождения   7\n",
            "Введите дату Вашего рождения    22\n",
            "Рак\n"
          ]
        }
      ]
    },
    {
      "cell_type": "markdown",
      "source": [
        "Задание 4\n",
        "\n",
        "Вам нужно написать программу для подбора упаковок по размерам товара. Размеры (ширина, длина, высота) хранятся в переменных (в сантиметрах):\n",
        "\n",
        "Используйте следующие правила:\n",
        "\n",
        " - если каждое из трех измерений менее или равно 15 сантиметрам, то выведите на экран \"Коробка №1\";\n",
        "\n",
        " - если хотя бы одно из измерений больше 2 метров, то выводите \"Упаковка для лыж\";\n",
        "\n",
        " - если хотя бы одно из измерений больше 15 сантиметров, но менее 50 сантиметров, то выводите \"Коробка №2\";\n",
        "\n",
        " - во всех остальных случаях выводите \"Коробка №3\"."
      ],
      "metadata": {
        "id": "IEX6wMb-f8Rc"
      }
    },
    {
      "cell_type": "code",
      "source": [
        "width = 15\n",
        "length = 55\n",
        "height = 15\n",
        "if width <= 15 and length <= 15 and height <= 15:\n",
        "  print ('\"Коробка №1\"')\n",
        "elif width >= 200 or length >= 200 or height >= 200:\n",
        "  print ('\"Упаковка для лыж\"')\n",
        "else:\n",
        "  print ('\"Коробка №3\"')"
      ],
      "metadata": {
        "colab": {
          "base_uri": "https://localhost:8080/"
        },
        "id": "2QRVQRy1gLe-",
        "outputId": "5d7e81d9-a955-4a1f-82fe-9061e434bd42"
      },
      "execution_count": null,
      "outputs": [
        {
          "output_type": "stream",
          "name": "stdout",
          "text": [
            "\"Коробка №3\"\n"
          ]
        }
      ]
    },
    {
      "cell_type": "code",
      "source": [
        "width = 45\n",
        "length = 205\n",
        "height = 45\n",
        "if width <= 15 and length <= 15 and height <= 15:\n",
        "  print ('\"Коробка №1\"')\n",
        "elif width >= 200 or length >= 200 or height >= 200:\n",
        "  print ('\"Упаковка для лыж\"')\n",
        "else:\n",
        "  print ('\"Коробка №3\"')"
      ],
      "metadata": {
        "colab": {
          "base_uri": "https://localhost:8080/"
        },
        "id": "U6I0d5fFhb-v",
        "outputId": "3445574f-440c-449b-bdc3-e8a936bcb1af"
      },
      "execution_count": null,
      "outputs": [
        {
          "output_type": "stream",
          "name": "stdout",
          "text": [
            "\"Упаковка для лыж\"\n"
          ]
        }
      ]
    },
    {
      "cell_type": "markdown",
      "source": [
        "Задание 5 (необязательное)\n",
        "\n",
        "Дана переменная, в которой хранится шестизначное число (номер проездного билета).\n",
        "\n",
        "Напишите программу, которая будет определять, является ли данный билет \"счастливым\". Билет считается счастливым, если сумма первых трех цифр совпадает с суммой последних трех цифр номера."
      ],
      "metadata": {
        "id": "jE-uLzUWhsTS"
      }
    },
    {
      "cell_type": "code",
      "source": [
        "number = int(input('Введите номер билета:   '))\n",
        "if (number < 100000 or number > 999999):\n",
        "  print('неверный номер билета')\n",
        "else:\n",
        "  First_half = number // 1000\n",
        "  One = First_half // 100\n",
        "  Two = First_half % 11\n",
        "  Three = First_half % 10\n",
        "\n",
        "  Second_half = number % 1000\n",
        "  Four = Second_half // 100\n",
        "  Five = Second_half % 11\n",
        "  Six = Second_half % 10\n",
        "  print('Счастливый') if (One + Two + Three) == (Four + Five + Six) else print('Не Счастливый')"
      ],
      "metadata": {
        "id": "S-e4faRbhwco",
        "colab": {
          "base_uri": "https://localhost:8080/"
        },
        "outputId": "79dd7526-9535-4dd5-b394-3bde7b3e309b"
      },
      "execution_count": null,
      "outputs": [
        {
          "output_type": "stream",
          "name": "stdout",
          "text": [
            "Введите номер билета:   789123\n",
            "Не Счастливый\n"
          ]
        }
      ]
    },
    {
      "cell_type": "markdown",
      "source": [
        "Задание 6 (необязательное)\n",
        "\n",
        "Напишите программу, которая сможет вычислять площади трех фигур (круг, треугольник и прямоугольник). Тип фигуры запрашиваем через пользовательский ввод, после чего делаем запрос характеристик фигуры:\n",
        "\n",
        "если пользователь выбрал круг, запрашиваем его радиус,\n",
        "\n",
        "если треугольник – длины трех его сторон;\n",
        "\n",
        "если прямоугольник – длины двух его сторон.\n"
      ],
      "metadata": {
        "id": "XoS5EB2p2J3F"
      }
    },
    {
      "cell_type": "code",
      "source": [
        "how_figure = str(input('Введите тип фигуры (Круг, Треугольник, Прямоугольник):  '))\n",
        "if (how_figure != \"Круг\" and how_figure != \"Треугольник\" and how_figure != \"Прямоугольник\"):\n",
        "  print('Укажите корректно название фигуры')\n",
        "else:\n",
        "  match how_figure:\n",
        "    case \"Круг\":\n",
        "      R = float(input('Введите радиус:  '))\n",
        "      if R <= 0:\n",
        "        print('Такого круга не существует')\n",
        "      else:\n",
        "        S_circle = 3.14*(R**2)\n",
        "        print('Площадь круга равна  ', round(S_circle, 2))\n",
        "    case \"Прямоугольник\":\n",
        "      A = float(input('Введите длину стороны А:  '))\n",
        "      B = float(input('Введите длину стороны B:  '))\n",
        "      if A <= 0 or B <= 0:\n",
        "        print('Такого прямоугольника не существует')\n",
        "      else:\n",
        "        S_rectangle = A * B\n",
        "        print('Площадь прямоугольника равна:  ', round(S_rectangle, 2))\n",
        "    case \"Треугольник\":\n",
        "      AA = float(input('Введите длину стороны А:  '))\n",
        "      BB = float(input('Введите длину стороны B:  '))\n",
        "      CC = float(input('Введите длину стороны B:  '))\n",
        "      p = (AA + BB + CC)/2\n",
        "      if (p < AA or p < BB or p < CC):\n",
        "        print('Такой треугольник не существует')\n",
        "      else:\n",
        "        S_triangle = (p * (p - AA) * (p - BB) * (p - CC)) ** (1/2)\n",
        "        print('Площадь прямоугольника равна:  ', round(S_triangle, 2))"
      ],
      "metadata": {
        "colab": {
          "base_uri": "https://localhost:8080/"
        },
        "id": "DIxUuS7o37x5",
        "outputId": "bf8f6b00-be2e-42db-ce70-85a7873eeaf0"
      },
      "execution_count": null,
      "outputs": [
        {
          "output_type": "stream",
          "name": "stdout",
          "text": [
            "Введите тип фигуры (Круг, Треугольник, Прямоугольник):  Круг\n",
            "Введите радиус:  0.1\n",
            "Площадь круга равна   0.03\n"
          ]
        }
      ]
    }
  ]
}